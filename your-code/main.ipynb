{
 "cells": [
  {
   "cell_type": "markdown",
   "metadata": {},
   "source": [
    "# Intrduction to NumPy\n",
    "\n",
    "\n",
    "#### 1. Import NumPy under the name np."
   ]
  },
  {
   "cell_type": "code",
   "execution_count": 1,
   "metadata": {},
   "outputs": [],
   "source": [
    "# your code here\n",
    "import numpy as np"
   ]
  },
  {
   "cell_type": "markdown",
   "metadata": {},
   "source": [
    "#### 2. Print your NumPy version."
   ]
  },
  {
   "cell_type": "code",
   "execution_count": 6,
   "metadata": {},
   "outputs": [
    {
     "data": {
      "text/plain": [
       "'1.18.5'"
      ]
     },
     "execution_count": 6,
     "metadata": {},
     "output_type": "execute_result"
    }
   ],
   "source": [
    "# your code here\n",
    "np.__version__"
   ]
  },
  {
   "cell_type": "markdown",
   "metadata": {},
   "source": [
    "#### 3. Generate a 2x3x5 3-dimensional array with random values. Assign the array to variable *a*.\n",
    "**Challenge**: there are at least three easy ways that use numpy to generate random arrays. How many ways can you find?"
   ]
  },
  {
   "cell_type": "code",
   "execution_count": 5,
   "metadata": {},
   "outputs": [
    {
     "data": {
      "text/plain": [
       "array([[[0.05966224, 0.60959248, 0.28720662, 0.82225747, 0.4729437 ],\n",
       "        [0.78432817, 0.99137852, 0.66001183, 0.54587878, 0.86617818],\n",
       "        [0.94357415, 0.97202756, 0.74523095, 0.38592396, 0.39052644]],\n",
       "\n",
       "       [[0.9471266 , 0.64650234, 0.95962988, 0.73729041, 0.45289482],\n",
       "        [0.7732689 , 0.09976103, 0.37121404, 0.38374721, 0.03188197],\n",
       "        [0.45567805, 0.07002082, 0.01995934, 0.38800057, 0.01569916]]])"
      ]
     },
     "execution_count": 5,
     "metadata": {},
     "output_type": "execute_result"
    }
   ],
   "source": [
    "# Method 1\n",
    "\n",
    "a = np.random.random((2,3,5))\n",
    "a"
   ]
  },
  {
   "cell_type": "code",
   "execution_count": 7,
   "metadata": {},
   "outputs": [
    {
     "data": {
      "text/plain": [
       "array([[[94, 47,  3, 54, 46],\n",
       "        [31, 77, 89, 22, 63],\n",
       "        [ 8, 76, 22, 99, 71]],\n",
       "\n",
       "       [[98, 77, 37, 62, 12],\n",
       "        [79, 70, 24, 93, 70],\n",
       "        [19, 46,  6, 19,  1]]])"
      ]
     },
     "execution_count": 7,
     "metadata": {},
     "output_type": "execute_result"
    }
   ],
   "source": [
    "# Method 2\n",
    "\n",
    "from numpy import random\n",
    "a = random.randint(100,size=(2,3,5))\n",
    "a"
   ]
  },
  {
   "cell_type": "code",
   "execution_count": 8,
   "metadata": {},
   "outputs": [
    {
     "data": {
      "text/plain": [
       "array([[[0.89543516, 0.44197635, 0.41223665, 0.27060679, 0.32398086],\n",
       "        [0.32498346, 0.78651385, 0.20545471, 0.01966314, 0.89537545],\n",
       "        [0.74266813, 0.37157605, 0.28223995, 0.93833963, 0.59470976]],\n",
       "\n",
       "       [[0.88748311, 0.81666676, 0.56226109, 0.34899726, 0.74369482],\n",
       "        [0.83944767, 0.1757549 , 0.67574558, 0.39782976, 0.92127426],\n",
       "        [0.72010639, 0.06343847, 0.68219272, 0.86099813, 0.07885872]]])"
      ]
     },
     "execution_count": 8,
     "metadata": {},
     "output_type": "execute_result"
    }
   ],
   "source": [
    "# Method 3\n",
    "\n",
    "a = random.rand(2,3,5)\n",
    "a"
   ]
  },
  {
   "cell_type": "markdown",
   "metadata": {},
   "source": [
    "#### 4. Print *a*.\n"
   ]
  },
  {
   "cell_type": "code",
   "execution_count": 9,
   "metadata": {},
   "outputs": [
    {
     "name": "stdout",
     "output_type": "stream",
     "text": [
      "[[[0.89543516 0.44197635 0.41223665 0.27060679 0.32398086]\n",
      "  [0.32498346 0.78651385 0.20545471 0.01966314 0.89537545]\n",
      "  [0.74266813 0.37157605 0.28223995 0.93833963 0.59470976]]\n",
      "\n",
      " [[0.88748311 0.81666676 0.56226109 0.34899726 0.74369482]\n",
      "  [0.83944767 0.1757549  0.67574558 0.39782976 0.92127426]\n",
      "  [0.72010639 0.06343847 0.68219272 0.86099813 0.07885872]]]\n"
     ]
    }
   ],
   "source": [
    "# your code here\n",
    "\n",
    "print(a)"
   ]
  },
  {
   "cell_type": "markdown",
   "metadata": {},
   "source": [
    "#### 5. Create a 5x2x3 3-dimensional array with all values equaling 1. Assign the array to variable *b*."
   ]
  },
  {
   "cell_type": "code",
   "execution_count": 14,
   "metadata": {},
   "outputs": [
    {
     "data": {
      "text/plain": [
       "array([[[1., 1., 1.],\n",
       "        [1., 1., 1.]],\n",
       "\n",
       "       [[1., 1., 1.],\n",
       "        [1., 1., 1.]],\n",
       "\n",
       "       [[1., 1., 1.],\n",
       "        [1., 1., 1.]],\n",
       "\n",
       "       [[1., 1., 1.],\n",
       "        [1., 1., 1.]],\n",
       "\n",
       "       [[1., 1., 1.],\n",
       "        [1., 1., 1.]]])"
      ]
     },
     "execution_count": 14,
     "metadata": {},
     "output_type": "execute_result"
    }
   ],
   "source": [
    "# your code here\n",
    "b = np.ones((5,2,3))\n",
    "b"
   ]
  },
  {
   "cell_type": "markdown",
   "metadata": {},
   "source": [
    "#### 6. Print *b*.\n"
   ]
  },
  {
   "cell_type": "code",
   "execution_count": 15,
   "metadata": {},
   "outputs": [
    {
     "name": "stdout",
     "output_type": "stream",
     "text": [
      "[[[1. 1. 1.]\n",
      "  [1. 1. 1.]]\n",
      "\n",
      " [[1. 1. 1.]\n",
      "  [1. 1. 1.]]\n",
      "\n",
      " [[1. 1. 1.]\n",
      "  [1. 1. 1.]]\n",
      "\n",
      " [[1. 1. 1.]\n",
      "  [1. 1. 1.]]\n",
      "\n",
      " [[1. 1. 1.]\n",
      "  [1. 1. 1.]]]\n"
     ]
    }
   ],
   "source": [
    "# your code here\n",
    "print(b)"
   ]
  },
  {
   "cell_type": "markdown",
   "metadata": {},
   "source": [
    "#### 7. Do *a* and *b* have the same size? How do you prove that in Python code?"
   ]
  },
  {
   "cell_type": "code",
   "execution_count": 16,
   "metadata": {},
   "outputs": [
    {
     "data": {
      "text/plain": [
       "True"
      ]
     },
     "execution_count": 16,
     "metadata": {},
     "output_type": "execute_result"
    }
   ],
   "source": [
    "# your code here\n",
    "\n",
    "a.size == b.size"
   ]
  },
  {
   "cell_type": "markdown",
   "metadata": {},
   "source": [
    "#### 8. Are you able to add *a* and *b*? Why or why not?\n"
   ]
  },
  {
   "cell_type": "code",
   "execution_count": 20,
   "metadata": {},
   "outputs": [
    {
     "name": "stdout",
     "output_type": "stream",
     "text": [
      "(2, 3, 5)\n",
      "(5, 2, 3)\n"
     ]
    }
   ],
   "source": [
    "# your answer here\n",
    "#print(np.add(a,b))\n",
    "#they can't be added together because thet don't have the same shape\n",
    "#we get the error \"operands could not be broadcast together with shapes (2,3,5) (5,2,3)\n",
    "\n",
    "print(a.shape)\n",
    "print(b.shape)"
   ]
  },
  {
   "cell_type": "markdown",
   "metadata": {},
   "source": [
    "#### 9. Transpose *b* so that it has the same structure of *a* (i.e. become a 2x3x5 array). Assign the transposed array to variable *c*."
   ]
  },
  {
   "cell_type": "code",
   "execution_count": 27,
   "metadata": {},
   "outputs": [
    {
     "data": {
      "text/plain": [
       "array([[[1., 1., 1., 1., 1.],\n",
       "        [1., 1., 1., 1., 1.],\n",
       "        [1., 1., 1., 1., 1.]],\n",
       "\n",
       "       [[1., 1., 1., 1., 1.],\n",
       "        [1., 1., 1., 1., 1.],\n",
       "        [1., 1., 1., 1., 1.]]])"
      ]
     },
     "execution_count": 27,
     "metadata": {},
     "output_type": "execute_result"
    }
   ],
   "source": [
    "# your code here\n",
    "c = b.reshape(2,3,5)\n",
    "c"
   ]
  },
  {
   "cell_type": "markdown",
   "metadata": {},
   "source": [
    "#### 10. Try to add *a* and *c*. Now it should work. Assign the sum to variable *d*. But why does it work now?"
   ]
  },
  {
   "cell_type": "code",
   "execution_count": 29,
   "metadata": {},
   "outputs": [
    {
     "data": {
      "text/plain": [
       "array([[[1.89543516, 1.44197635, 1.41223665, 1.27060679, 1.32398086],\n",
       "        [1.32498346, 1.78651385, 1.20545471, 1.01966314, 1.89537545],\n",
       "        [1.74266813, 1.37157605, 1.28223995, 1.93833963, 1.59470976]],\n",
       "\n",
       "       [[1.88748311, 1.81666676, 1.56226109, 1.34899726, 1.74369482],\n",
       "        [1.83944767, 1.1757549 , 1.67574558, 1.39782976, 1.92127426],\n",
       "        [1.72010639, 1.06343847, 1.68219272, 1.86099813, 1.07885872]]])"
      ]
     },
     "execution_count": 29,
     "metadata": {},
     "output_type": "execute_result"
    }
   ],
   "source": [
    "# your code/answer here\n",
    "d = np.add(a,c)\n",
    "d\n",
    "#unlike previously, the arrays have the same shape now and can be added"
   ]
  },
  {
   "cell_type": "markdown",
   "metadata": {},
   "source": [
    "#### 11. Print *a* and *d*. Notice the difference and relation of the two array in terms of the values? Explain."
   ]
  },
  {
   "cell_type": "code",
   "execution_count": 30,
   "metadata": {},
   "outputs": [
    {
     "name": "stdout",
     "output_type": "stream",
     "text": [
      "[[[0.89543516 0.44197635 0.41223665 0.27060679 0.32398086]\n",
      "  [0.32498346 0.78651385 0.20545471 0.01966314 0.89537545]\n",
      "  [0.74266813 0.37157605 0.28223995 0.93833963 0.59470976]]\n",
      "\n",
      " [[0.88748311 0.81666676 0.56226109 0.34899726 0.74369482]\n",
      "  [0.83944767 0.1757549  0.67574558 0.39782976 0.92127426]\n",
      "  [0.72010639 0.06343847 0.68219272 0.86099813 0.07885872]]]\n",
      "[[[1.89543516 1.44197635 1.41223665 1.27060679 1.32398086]\n",
      "  [1.32498346 1.78651385 1.20545471 1.01966314 1.89537545]\n",
      "  [1.74266813 1.37157605 1.28223995 1.93833963 1.59470976]]\n",
      "\n",
      " [[1.88748311 1.81666676 1.56226109 1.34899726 1.74369482]\n",
      "  [1.83944767 1.1757549  1.67574558 1.39782976 1.92127426]\n",
      "  [1.72010639 1.06343847 1.68219272 1.86099813 1.07885872]]]\n"
     ]
    }
   ],
   "source": [
    "# your code/answer here\n",
    "print(a)\n",
    "print(d)\n",
    "\n",
    "#the second array's (b) values are the (a) value's +1"
   ]
  },
  {
   "cell_type": "markdown",
   "metadata": {},
   "source": [
    "#### 12. Multiply *a* and *c*. Assign the result to *e*."
   ]
  },
  {
   "cell_type": "code",
   "execution_count": 32,
   "metadata": {},
   "outputs": [
    {
     "data": {
      "text/plain": [
       "array([[[0.89543516, 0.44197635, 0.41223665, 0.27060679, 0.32398086],\n",
       "        [0.32498346, 0.78651385, 0.20545471, 0.01966314, 0.89537545],\n",
       "        [0.74266813, 0.37157605, 0.28223995, 0.93833963, 0.59470976]],\n",
       "\n",
       "       [[0.88748311, 0.81666676, 0.56226109, 0.34899726, 0.74369482],\n",
       "        [0.83944767, 0.1757549 , 0.67574558, 0.39782976, 0.92127426],\n",
       "        [0.72010639, 0.06343847, 0.68219272, 0.86099813, 0.07885872]]])"
      ]
     },
     "execution_count": 32,
     "metadata": {},
     "output_type": "execute_result"
    }
   ],
   "source": [
    "# your code here\n",
    "e = a*c\n",
    "e"
   ]
  },
  {
   "cell_type": "markdown",
   "metadata": {},
   "source": [
    "#### 13. Does *e* equal to *a*? Why or why not?\n"
   ]
  },
  {
   "cell_type": "code",
   "execution_count": 35,
   "metadata": {},
   "outputs": [
    {
     "name": "stdout",
     "output_type": "stream",
     "text": [
      "[[[0.89543516 0.44197635 0.41223665 0.27060679 0.32398086]\n",
      "  [0.32498346 0.78651385 0.20545471 0.01966314 0.89537545]\n",
      "  [0.74266813 0.37157605 0.28223995 0.93833963 0.59470976]]\n",
      "\n",
      " [[0.88748311 0.81666676 0.56226109 0.34899726 0.74369482]\n",
      "  [0.83944767 0.1757549  0.67574558 0.39782976 0.92127426]\n",
      "  [0.72010639 0.06343847 0.68219272 0.86099813 0.07885872]]]\n",
      "[[[0.89543516 0.44197635 0.41223665 0.27060679 0.32398086]\n",
      "  [0.32498346 0.78651385 0.20545471 0.01966314 0.89537545]\n",
      "  [0.74266813 0.37157605 0.28223995 0.93833963 0.59470976]]\n",
      "\n",
      " [[0.88748311 0.81666676 0.56226109 0.34899726 0.74369482]\n",
      "  [0.83944767 0.1757549  0.67574558 0.39782976 0.92127426]\n",
      "  [0.72010639 0.06343847 0.68219272 0.86099813 0.07885872]]]\n"
     ]
    },
    {
     "data": {
      "text/plain": [
       "array([[[ True,  True,  True,  True,  True],\n",
       "        [ True,  True,  True,  True,  True],\n",
       "        [ True,  True,  True,  True,  True]],\n",
       "\n",
       "       [[ True,  True,  True,  True,  True],\n",
       "        [ True,  True,  True,  True,  True],\n",
       "        [ True,  True,  True,  True,  True]]])"
      ]
     },
     "execution_count": 35,
     "metadata": {},
     "output_type": "execute_result"
    }
   ],
   "source": [
    "# your code/answer here\n",
    "print(e)\n",
    "print(a)\n",
    "e == a\n",
    "\n",
    "#yes, they have the same values and the same shape"
   ]
  },
  {
   "cell_type": "markdown",
   "metadata": {},
   "source": [
    "#### 14. Identify the max, min, and mean values in *d*. Assign those values to variables *d_max*, *d_min* and *d_mean*."
   ]
  },
  {
   "cell_type": "code",
   "execution_count": 37,
   "metadata": {},
   "outputs": [
    {
     "name": "stdout",
     "output_type": "stream",
     "text": [
      "1.9383396267152015\n",
      "1.019663135348662\n",
      "1.542683652363173\n"
     ]
    }
   ],
   "source": [
    "# your code here\n",
    "d_max = np.max(d)\n",
    "d_min = np.min(d)\n",
    "d_mean = np.mean(d)\n",
    "print(d_max)\n",
    "print(d_min)\n",
    "print(d_mean)"
   ]
  },
  {
   "cell_type": "markdown",
   "metadata": {},
   "source": [
    "#### 15. Now we want to label the values in *d*. First create an empty array *f* with the same shape (i.e. 2x3x5) as *d* using `np.empty`.\n"
   ]
  },
  {
   "cell_type": "code",
   "execution_count": 46,
   "metadata": {},
   "outputs": [
    {
     "data": {
      "text/plain": [
       "array([[[0.37001269, 0.87463272, 0.50562485, 0.34974534, 0.04823769],\n",
       "        [0.69486634, 0.85930052, 0.03248325, 0.47115404, 0.11658407],\n",
       "        [0.52762115, 0.28460843, 0.38550359, 0.03250432, 0.16807243]],\n",
       "\n",
       "       [[0.07420282, 0.54831336, 0.71966688, 0.65452407, 0.3657328 ],\n",
       "        [0.20644648, 0.07098188, 0.9934662 , 0.17617772, 0.10371129],\n",
       "        [0.30604952, 0.65718781, 0.70628892, 0.54496362, 0.5450142 ]]])"
      ]
     },
     "execution_count": 46,
     "metadata": {},
     "output_type": "execute_result"
    }
   ],
   "source": [
    "# your code here\n",
    "f = np.empty((2,3,5))\n",
    "f"
   ]
  },
  {
   "cell_type": "markdown",
   "metadata": {},
   "source": [
    "#### 16. Populate the values in *f*. \n",
    "\n",
    "For each value in *d*, if it's larger than *d_min* but smaller than *d_mean*, assign 25 to the corresponding value in *f*. If a value in *d* is larger than *d_mean* but smaller than *d_max*, assign 75 to the corresponding value in *f*. If a value equals to *d_mean*, assign 50 to the corresponding value in *f*. Assign 0 to the corresponding value(s) in *f* for *d_min* in *d*. Assign 100 to the corresponding value(s) in *f* for *d_max* in *d*. In the end, f should have only the following values: 0, 25, 50, 75, and 100.\n",
    "\n",
    "**Note**: you don't have to use Numpy in this question."
   ]
  },
  {
   "cell_type": "code",
   "execution_count": 70,
   "metadata": {},
   "outputs": [
    {
     "name": "stdout",
     "output_type": "stream",
     "text": [
      "[[[ 75.  25.  25.  25.  25.]\n",
      "  [ 25.  75.  25.   0.  75.]\n",
      "  [ 75.  25.  25. 100.  75.]]\n",
      "\n",
      " [[ 75.  75.  75.  25.  75.]\n",
      "  [ 75.  25.  75.  25.  75.]\n",
      "  [ 75.  25.  75.  75.  25.]]]\n"
     ]
    }
   ],
   "source": [
    "# your code here\n",
    "\n",
    "f = np.where(d == d_max, 100, d)\n",
    "#since f is an empty array, we're assigning the value on d because otherwise there would be\n",
    "#no reference.\n",
    "f = np.where(d < d_max, 75, f)\n",
    "f = np.where(d == d_mean, 50, f)\n",
    "f = np.where(d < d_mean, 25, f)\n",
    "f = np.where(d == d_min, 0, f)\n",
    "    \n",
    "\n",
    "print(f)"
   ]
  },
  {
   "cell_type": "markdown",
   "metadata": {},
   "source": [
    "#### 17. Print *d* and *f*. Do you have your expected *f*?\n",
    "For instance, if your *d* is:\n",
    "```python\n",
    "[[[1.85836099, 1.67064465, 1.62576044, 1.40243961, 1.88454931],\n",
    "[1.75354326, 1.69403643, 1.36729252, 1.61415071, 1.12104981],\n",
    "[1.72201435, 1.1862918 , 1.87078449, 1.7726778 , 1.88180042]],\n",
    "[[1.44747908, 1.31673383, 1.02000951, 1.52218947, 1.97066381],\n",
    "[1.79129243, 1.74983003, 1.96028037, 1.85166831, 1.65450881],\n",
    "[1.18068344, 1.9587381 , 1.00656599, 1.93402165, 1.73514584]]]\n",
    "```\n",
    "Your *f* should be:\n",
    "```python\n",
    "[[[ 75.,  75.,  75.,  25.,  75.],\n",
    "[ 75.,  75.,  25.,  25.,  25.],\n",
    "[ 75.,  25.,  75.,  75.,  75.]],\n",
    "[[ 25.,  25.,  25.,  25., 100.],\n",
    "[ 75.,  75.,  75.,  75.,  75.],\n",
    "[ 25.,  75.,   0.,  75.,  75.]]]\n",
    "```"
   ]
  },
  {
   "cell_type": "code",
   "execution_count": 68,
   "metadata": {},
   "outputs": [
    {
     "name": "stdout",
     "output_type": "stream",
     "text": [
      "[[[1.89543516 1.44197635 1.41223665 1.27060679 1.32398086]\n",
      "  [1.32498346 1.78651385 1.20545471 1.01966314 1.89537545]\n",
      "  [1.74266813 1.37157605 1.28223995 1.93833963 1.59470976]]\n",
      "\n",
      " [[1.88748311 1.81666676 1.56226109 1.34899726 1.74369482]\n",
      "  [1.83944767 1.1757549  1.67574558 1.39782976 1.92127426]\n",
      "  [1.72010639 1.06343847 1.68219272 1.86099813 1.07885872]]]\n",
      "[[[ 75.  25.  25.  25.  25.]\n",
      "  [ 25.  75.  25.   0.  75.]\n",
      "  [ 75.  25.  25. 100.  75.]]\n",
      "\n",
      " [[ 75.  75.  75.  25.  75.]\n",
      "  [ 75.  25.  75.  25.  75.]\n",
      "  [ 75.  25.  75.  75.  25.]]]\n"
     ]
    }
   ],
   "source": [
    "# your code here\n",
    "print(d)\n",
    "print(f)"
   ]
  },
  {
   "cell_type": "markdown",
   "metadata": {},
   "source": [
    "#### 18. Bonus question: instead of using numbers (i.e. 0, 25, 50, 75, and 100), use string values  (\"A\", \"B\", \"C\", \"D\", and \"E\") to label the array elements. For the example above, the expected result is:\n",
    "\n",
    "```python\n",
    "[[[ 'D',  'D',  'D',  'B',  'D'],\n",
    "[ 'D',  'D',  'B',  'B',  'B'],\n",
    "[ 'D',  'B',  'D',  'D',  'D']],\n",
    "[[ 'B',  'B',  'B',  'B',  'E'],\n",
    "[ 'D',  'D',  'D',  'D',  'D'],\n",
    "[ 'B',  'D',   'A',  'D', 'D']]]\n",
    "```\n",
    "**Note**: you don't have to use Numpy in this question."
   ]
  },
  {
   "cell_type": "code",
   "execution_count": 78,
   "metadata": {},
   "outputs": [
    {
     "name": "stdout",
     "output_type": "stream",
     "text": [
      "[[['D' 'B' 'B' 'B' 'B']\n",
      "  ['B' 'D' 'B' 'A' 'D']\n",
      "  ['D' 'B' 'B' 'E' 'D']]\n",
      "\n",
      " [['D' 'D' 'D' 'B' 'D']\n",
      "  ['D' 'B' 'D' 'B' 'D']\n",
      "  ['D' 'B' 'D' 'D' 'B']]]\n"
     ]
    }
   ],
   "source": [
    "# your code here\n",
    "f = np.where(d == d_max, 'E', d)\n",
    "#since f is an empty array, we're assigning the value on d because otherwise there would be\n",
    "#no reference.\n",
    "f = np.where(d < d_max, 'D', f)\n",
    "f = np.where(d == d_mean, 'C', f)\n",
    "f = np.where(d < d_mean, 'B', f)\n",
    "f = np.where(d == d_min, 'A', f)\n",
    "    \n",
    "\n",
    "print(f)"
   ]
  }
 ],
 "metadata": {
  "kernelspec": {
   "display_name": "Python 3",
   "language": "python",
   "name": "python3"
  },
  "language_info": {
   "codemirror_mode": {
    "name": "ipython",
    "version": 3
   },
   "file_extension": ".py",
   "mimetype": "text/x-python",
   "name": "python",
   "nbconvert_exporter": "python",
   "pygments_lexer": "ipython3",
   "version": "3.8.3"
  }
 },
 "nbformat": 4,
 "nbformat_minor": 2
}
